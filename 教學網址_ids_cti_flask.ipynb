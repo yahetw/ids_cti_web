{
 "cells": [
  {
   "cell_type": "code",
   "execution_count": 2,
   "metadata": {},
   "outputs": [],
   "source": [
    "from flask import Flask\n",
    "app = Flask(__name__)\n",
    "@app.route(\"/\")\n",
    "def hello():\n",
    "    return \"Hello, World!\""
   ]
  },
  {
   "attachments": {},
   "cell_type": "markdown",
   "metadata": {},
   "source": [
    "# 資料庫連線"
   ]
  },
  {
   "cell_type": "code",
   "execution_count": 5,
   "metadata": {},
   "outputs": [
    {
     "name": "stdout",
     "output_type": "stream",
     "text": [
      "資料庫總文章數：2505\n"
     ]
    },
    {
     "data": {
      "text/html": [
       "<div>\n",
       "<style scoped>\n",
       "    .dataframe tbody tr th:only-of-type {\n",
       "        vertical-align: middle;\n",
       "    }\n",
       "\n",
       "    .dataframe tbody tr th {\n",
       "        vertical-align: top;\n",
       "    }\n",
       "\n",
       "    .dataframe thead th {\n",
       "        text-align: right;\n",
       "    }\n",
       "</style>\n",
       "<table border=\"1\" class=\"dataframe\">\n",
       "  <thead>\n",
       "    <tr style=\"text-align: right;\">\n",
       "      <th></th>\n",
       "      <th>postID</th>\n",
       "      <th>post_date</th>\n",
       "      <th>title</th>\n",
       "      <th>content</th>\n",
       "      <th>url</th>\n",
       "      <th>new_event_news</th>\n",
       "    </tr>\n",
       "  </thead>\n",
       "  <tbody>\n",
       "    <tr>\n",
       "      <th>0</th>\n",
       "      <td>441</td>\n",
       "      <td>2022-05-20</td>\n",
       "      <td>Windows 11 hacked again at Pwn2Own, Telsa Mode...</td>\n",
       "      <td>\\n\\nDuring the second day of the Pwn2Own Vanco...</td>\n",
       "      <td>https://www.bleepingcomputer.com/news/security...</td>\n",
       "      <td>0.0</td>\n",
       "    </tr>\n",
       "    <tr>\n",
       "      <th>1</th>\n",
       "      <td>442</td>\n",
       "      <td>2022-05-20</td>\n",
       "      <td>Russian Sberbank says it s facing massive wave...</td>\n",
       "      <td>\\n\\nRussia's banking and financial services co...</td>\n",
       "      <td>https://www.bleepingcomputer.com/news/security...</td>\n",
       "      <td>0.0</td>\n",
       "    </tr>\n",
       "    <tr>\n",
       "      <th>2</th>\n",
       "      <td>443</td>\n",
       "      <td>2022-05-20</td>\n",
       "      <td>Canada bans Huawei and ZTE from 5G networks ov...</td>\n",
       "      <td>\\n\\nThe Government of Canada announced its int...</td>\n",
       "      <td>https://www.bleepingcomputer.com/news/security...</td>\n",
       "      <td>0.0</td>\n",
       "    </tr>\n",
       "    <tr>\n",
       "      <th>3</th>\n",
       "      <td>444</td>\n",
       "      <td>2022-05-19</td>\n",
       "      <td>Conti ransomware shuts down operation, rebrand...</td>\n",
       "      <td>\\n\\nThe notorious Conti ransomware gang has of...</td>\n",
       "      <td>https://www.bleepingcomputer.com/news/security...</td>\n",
       "      <td>0.0</td>\n",
       "    </tr>\n",
       "    <tr>\n",
       "      <th>4</th>\n",
       "      <td>445</td>\n",
       "      <td>2022-05-19</td>\n",
       "      <td>Media giant Nikkei s Asian unit hit by ransomw...</td>\n",
       "      <td>\\n\\nPublishing giant Nikkei disclosed that the...</td>\n",
       "      <td>https://www.bleepingcomputer.com/news/security...</td>\n",
       "      <td>0.0</td>\n",
       "    </tr>\n",
       "    <tr>\n",
       "      <th>...</th>\n",
       "      <td>...</td>\n",
       "      <td>...</td>\n",
       "      <td>...</td>\n",
       "      <td>...</td>\n",
       "      <td>...</td>\n",
       "      <td>...</td>\n",
       "    </tr>\n",
       "    <tr>\n",
       "      <th>2500</th>\n",
       "      <td>436</td>\n",
       "      <td>2021-02-16</td>\n",
       "      <td>Beware of COVID 19 vaccine scams and misinform...</td>\n",
       "      <td>The vaccination push provides a vital shot in ...</td>\n",
       "      <td>https://www.welivesecurity.com/2021/02/16/bewa...</td>\n",
       "      <td>0.0</td>\n",
       "    </tr>\n",
       "    <tr>\n",
       "      <th>2501</th>\n",
       "      <td>437</td>\n",
       "      <td>2021-02-15</td>\n",
       "      <td>Record high number of vulnerabilities reported...</td>\n",
       "      <td>High-severity and critical bugs disclosed in 2...</td>\n",
       "      <td>https://www.welivesecurity.com/2021/02/15/reco...</td>\n",
       "      <td>0.0</td>\n",
       "    </tr>\n",
       "    <tr>\n",
       "      <th>2502</th>\n",
       "      <td>438</td>\n",
       "      <td>2021-02-12</td>\n",
       "      <td>Week in security with Tony Anscombe</td>\n",
       "      <td>ESET s Q4 2020 threat report is out   How smar...</td>\n",
       "      <td>https://www.welivesecurity.com/videos/week-sec...</td>\n",
       "      <td>0.0</td>\n",
       "    </tr>\n",
       "    <tr>\n",
       "      <th>2503</th>\n",
       "      <td>439</td>\n",
       "      <td>2021-02-12</td>\n",
       "      <td>Fifty shades of vulnerable: How to play it saf...</td>\n",
       "      <td>While you re living out your fantasies, your i...</td>\n",
       "      <td>https://www.welivesecurity.com/2021/02/12/fift...</td>\n",
       "      <td>0.0</td>\n",
       "    </tr>\n",
       "    <tr>\n",
       "      <th>2504</th>\n",
       "      <td>440</td>\n",
       "      <td>2021-02-11</td>\n",
       "      <td>Protecting the water supply   hacker edition</td>\n",
       "      <td>What can municipalities do to better protect t...</td>\n",
       "      <td>https://www.welivesecurity.com/2021/02/11/prot...</td>\n",
       "      <td>0.0</td>\n",
       "    </tr>\n",
       "  </tbody>\n",
       "</table>\n",
       "<p>2505 rows × 6 columns</p>\n",
       "</div>"
      ],
      "text/plain": [
       "      postID  post_date                                              title  \\\n",
       "0        441 2022-05-20  Windows 11 hacked again at Pwn2Own, Telsa Mode...   \n",
       "1        442 2022-05-20  Russian Sberbank says it s facing massive wave...   \n",
       "2        443 2022-05-20  Canada bans Huawei and ZTE from 5G networks ov...   \n",
       "3        444 2022-05-19  Conti ransomware shuts down operation, rebrand...   \n",
       "4        445 2022-05-19  Media giant Nikkei s Asian unit hit by ransomw...   \n",
       "...      ...        ...                                                ...   \n",
       "2500     436 2021-02-16  Beware of COVID 19 vaccine scams and misinform...   \n",
       "2501     437 2021-02-15  Record high number of vulnerabilities reported...   \n",
       "2502     438 2021-02-12                Week in security with Tony Anscombe   \n",
       "2503     439 2021-02-12  Fifty shades of vulnerable: How to play it saf...   \n",
       "2504     440 2021-02-11       Protecting the water supply   hacker edition   \n",
       "\n",
       "                                                content  \\\n",
       "0     \\n\\nDuring the second day of the Pwn2Own Vanco...   \n",
       "1     \\n\\nRussia's banking and financial services co...   \n",
       "2     \\n\\nThe Government of Canada announced its int...   \n",
       "3     \\n\\nThe notorious Conti ransomware gang has of...   \n",
       "4     \\n\\nPublishing giant Nikkei disclosed that the...   \n",
       "...                                                 ...   \n",
       "2500  The vaccination push provides a vital shot in ...   \n",
       "2501  High-severity and critical bugs disclosed in 2...   \n",
       "2502  ESET s Q4 2020 threat report is out   How smar...   \n",
       "2503  While you re living out your fantasies, your i...   \n",
       "2504  What can municipalities do to better protect t...   \n",
       "\n",
       "                                                    url  new_event_news  \n",
       "0     https://www.bleepingcomputer.com/news/security...             0.0  \n",
       "1     https://www.bleepingcomputer.com/news/security...             0.0  \n",
       "2     https://www.bleepingcomputer.com/news/security...             0.0  \n",
       "3     https://www.bleepingcomputer.com/news/security...             0.0  \n",
       "4     https://www.bleepingcomputer.com/news/security...             0.0  \n",
       "...                                                 ...             ...  \n",
       "2500  https://www.welivesecurity.com/2021/02/16/bewa...             0.0  \n",
       "2501  https://www.welivesecurity.com/2021/02/15/reco...             0.0  \n",
       "2502  https://www.welivesecurity.com/videos/week-sec...             0.0  \n",
       "2503  https://www.welivesecurity.com/2021/02/12/fift...             0.0  \n",
       "2504  https://www.welivesecurity.com/2021/02/11/prot...             0.0  \n",
       "\n",
       "[2505 rows x 6 columns]"
      ]
     },
     "execution_count": 5,
     "metadata": {},
     "output_type": "execute_result"
    }
   ],
   "source": [
    "import t2id\n",
    "t2id.get_config(\"./config.ini\")\n",
    "t2id.data_retrieve_all()"
   ]
  },
  {
   "attachments": {},
   "cell_type": "markdown",
   "metadata": {},
   "source": [
    "參考資料: https://ithelp.ithome.com.tw/articles/10258223"
   ]
  },
  {
   "attachments": {},
   "cell_type": "markdown",
   "metadata": {},
   "source": [
    "網站模板\n",
    "1. https://learning-zone.github.io/website-templates/insight-free-bootstrap-html5-admin-template/\n",
    "2. https://learning-zone.github.io/website-templates/"
   ]
  },
  {
   "attachments": {},
   "cell_type": "markdown",
   "metadata": {},
   "source": [
    "flask\n",
    "1. https://www.maxlist.xyz/2019/10/30/flask-sqlalchemy/\n",
    "2. https://medium.com/seaniap/python-web-flask-flask-sqlalchemy%E6%93%8D%E4%BD%9Cmysql%E8%B3%87%E6%96%99%E5%BA%AB-2a799acdec4c\n",
    "3. https://medium.com/seaniap/python-web-flask-%E4%BD%BF%E7%94%A8sqlalchemy%E8%B3%87%E6%96%99%E5%BA%AB-8fc49c584ddb"
   ]
  },
  {
   "attachments": {},
   "cell_type": "markdown",
   "metadata": {},
   "source": [
    "flask data 轉送\n",
    "\n",
    "https://pythonbasics.org/flask-sqlalchemy/#Show-all"
   ]
  },
  {
   "attachments": {},
   "cell_type": "markdown",
   "metadata": {},
   "source": [
    "https://flask-sqlalchemy.palletsprojects.com/en/2.x/queries/"
   ]
  },
  {
   "attachments": {},
   "cell_type": "markdown",
   "metadata": {},
   "source": [
    "資料庫讀取"
   ]
  },
  {
   "attachments": {},
   "cell_type": "markdown",
   "metadata": {},
   "source": [
    "https://www.maxlist.xyz/2019/10/30/flask-sqlalchemy/"
   ]
  },
  {
   "attachments": {},
   "cell_type": "markdown",
   "metadata": {},
   "source": [
    "https://www.maxlist.xyz/2019/11/24/flask-sqlalchemy-orm/"
   ]
  },
  {
   "attachments": {},
   "cell_type": "markdown",
   "metadata": {},
   "source": [
    "https://www.maxlist.xyz/2019/11/24/flask-sqlalchemy-orm2/"
   ]
  },
  {
   "attachments": {},
   "cell_type": "markdown",
   "metadata": {},
   "source": [
    "import 陷阱"
   ]
  },
  {
   "attachments": {},
   "cell_type": "markdown",
   "metadata": {},
   "source": [
    "https://medium.com/pyladies-taiwan/python-%E7%9A%84-import-%E9%99%B7%E9%98%B1-3538e74f57e3"
   ]
  },
  {
   "attachments": {},
   "cell_type": "markdown",
   "metadata": {},
   "source": [
    "Flask: Jinja2 傳送變數"
   ]
  },
  {
   "attachments": {},
   "cell_type": "markdown",
   "metadata": {},
   "source": [
    "https://ithelp.ithome.com.tw/articles/10223616"
   ]
  },
  {
   "attachments": {},
   "cell_type": "markdown",
   "metadata": {},
   "source": [
    "https://hackmd.io/@shaoeChen/SJ0X-PnkG?type=view"
   ]
  },
  {
   "attachments": {},
   "cell_type": "markdown",
   "metadata": {},
   "source": [
    "ifelse: https://blog.csdn.net/Bulupp/article/details/109785425"
   ]
  },
  {
   "attachments": {},
   "cell_type": "markdown",
   "metadata": {},
   "source": [
    "CSS Font Awesome 版本: Every Font Awesome 4.0.3 Icon and CSS Class"
   ]
  },
  {
   "attachments": {},
   "cell_type": "markdown",
   "metadata": {},
   "source": [
    "http://btsai.github.io/font_awesome4_cheatsheet/index.html"
   ]
  },
  {
   "attachments": {},
   "cell_type": "markdown",
   "metadata": {},
   "source": [
    "分群指標"
   ]
  },
  {
   "attachments": {},
   "cell_type": "markdown",
   "metadata": {},
   "source": [
    "https://rocketloop.de/en/blog/machine-learning-clustering-in-python/"
   ]
  },
  {
   "attachments": {},
   "cell_type": "markdown",
   "metadata": {},
   "source": [
    "Topic Coherence"
   ]
  },
  {
   "attachments": {},
   "cell_type": "markdown",
   "metadata": {},
   "source": [
    "https://markroxor.github.io/gensim/static/notebooks/topic_coherence_tutorial.html#topic=0&lambda=1&term="
   ]
  },
  {
   "attachments": {},
   "cell_type": "markdown",
   "metadata": {},
   "source": [
    "https://radimrehurek.com/gensim/models/coherencemodel.html"
   ]
  },
  {
   "attachments": {},
   "cell_type": "markdown",
   "metadata": {},
   "source": [
    "https://colab.research.google.com/drive/1ClTYut039t-LDtlcd-oQAdXWgcsSGTw9?usp=sharing#scrollTo=yWffbXYhrUL6"
   ]
  },
  {
   "cell_type": "markdown",
   "metadata": {},
   "source": []
  }
 ],
 "metadata": {
  "kernelspec": {
   "display_name": "py37-idscti-web",
   "language": "python",
   "name": "python3"
  },
  "language_info": {
   "codemirror_mode": {
    "name": "ipython",
    "version": 3
   },
   "file_extension": ".py",
   "mimetype": "text/x-python",
   "name": "python",
   "nbconvert_exporter": "python",
   "pygments_lexer": "ipython3",
   "version": "3.7.15"
  },
  "orig_nbformat": 4,
  "vscode": {
   "interpreter": {
    "hash": "56ca9ad5aba4cc7fa6bd936e760d03851557933af7f1395bfff23177b3258e65"
   }
  }
 },
 "nbformat": 4,
 "nbformat_minor": 2
}
