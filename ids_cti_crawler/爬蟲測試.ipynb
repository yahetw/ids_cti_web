{
 "cells": [
  {
   "attachments": {},
   "cell_type": "markdown",
   "metadata": {},
   "source": [
    "# 0305 修改爬蟲"
   ]
  },
  {
   "cell_type": "code",
   "execution_count": 21,
   "metadata": {},
   "outputs": [
    {
     "data": {
      "text/plain": [
       "1678015167.0"
      ]
     },
     "execution_count": 21,
     "metadata": {},
     "output_type": "execute_result"
    }
   ],
   "source": [
    "import requests\n",
    "from bs4 import BeautifulSoup\n",
    "import pymysql\n",
    "import re\n",
    "import math\n",
    "import random\n",
    "import datetime\n",
    "import time\n",
    "\n",
    "now = datetime.datetime.now()\n",
    "time.mktime(now.timetuple())"
   ]
  },
  {
   "cell_type": "code",
   "execution_count": 52,
   "metadata": {},
   "outputs": [],
   "source": [
    "def one_day_loop():\n",
    "    global unix_now_time\n",
    "    global target_url\n",
    "    unix_now_time -= 86400\n",
    "    target_url = ROOT_URL + '&d=' + str(unix_now_time)\n",
    "    print(\"目標網址：\" + target_url)\n",
    "    return"
   ]
  },
  {
   "cell_type": "code",
   "execution_count": 53,
   "metadata": {},
   "outputs": [
    {
     "name": "stdout",
     "output_type": "stream",
     "text": [
      "1678017789\n",
      "https://www.newsnow.co.uk/h/Technology/Cyber+Security?type=ln&d=1678017789\n"
     ]
    }
   ],
   "source": [
    "# 目前時間，將其轉換為 unix timestamp\n",
    "now_time = datetime.datetime.now()\n",
    "unix_now_time = int(round(now_time.timestamp()))\n",
    "print(unix_now_time)\n",
    "\n",
    "# 目標連線網址：type=ln 表示爬取 latest 的新聞\n",
    "ROOT_URL = 'https://www.newsnow.co.uk/h/Technology/Cyber+Security?type=ln'\n",
    "target_url = ROOT_URL + '&d=' + str(unix_now_time)\n",
    "print(target_url)"
   ]
  },
  {
   "cell_type": "code",
   "execution_count": 54,
   "metadata": {},
   "outputs": [
    {
     "data": {
      "text/plain": [
       "1678017789"
      ]
     },
     "execution_count": 54,
     "metadata": {},
     "output_type": "execute_result"
    }
   ],
   "source": [
    "unix_now_time"
   ]
  },
  {
   "cell_type": "code",
   "execution_count": 61,
   "metadata": {},
   "outputs": [],
   "source": [
    "# 請求網頁\n",
    "HTML_PARSER = \"html.parser\"\n",
    "session_requests = requests.session()\n",
    "\n",
    "def get_news_times():\n",
    "    global time_list\n",
    "    global news_time\n",
    "    global timestamp\n",
    "    import time as tik\n",
    "    headers = {\n",
    "    'User-Agent': 'Mozilla/5.0 (Windows NT 10.0; Win64; x64) AppleWebKit/537.36 (KHTML, like Gecko) Chrome/109.0.0.0 Safari/537.36',\n",
    "    'cookie' : 'nn_uid=ID=20230113124108:20031; uky=c_101-52-51-53-55-52-53-55; __gads=ID=a8f508913da9aae2:T=1673613768:S=ALNI_MaXhnKshaWNI3_B4S2tsL7ZrjUHyQ; _gid=GA1.3.1866699498.1674844904; cookie_policy=2; nnusrst=c_Pubs._QhZ-ArtList.1164452301;1164383991-CookieConsent.2; nn_sid=05f39165b0957402573c; __gpi=UID=00000ba35459f50e:T=1673613768:RT=1675190027:S=ALNI_MYgrQ3BB6jRaIPrz_4wPOGfjbi8mQ; nn_ssn=c_Qh; _ga=GA1.3.1553473696.1673583694; _ga_ZS7YYS67BF=GS1.1.1675180683.14.1.1675193984.0.0.0; NNNewsfeedHistory=c__C.326-A.Cyber+Security-K.Qu-S.1675194287-N.15653-Y.UKZ-_C.1-A.Technology-K.Qu-S.1675168527-N.15630-Y.UK; NN_Eng=0'\n",
    "    }\n",
    "    list_req = requests.get(target_url, headers=headers)\n",
    "    if list_req.status_code == requests.codes.ok:\n",
    "        soup = BeautifulSoup(list_req.content, HTML_PARSER)\n",
    "    \n",
    "    time_list =[]\n",
    "    times = soup.find_all('span', 'time',limit=amount)\n",
    "    for time in times:\n",
    "        time_list.append(time['data-time'])\n",
    "    return time_list"
   ]
  },
  {
   "cell_type": "code",
   "execution_count": 63,
   "metadata": {},
   "outputs": [],
   "source": [
    "time_list = get_news_times()"
   ]
  },
  {
   "cell_type": "code",
   "execution_count": 64,
   "metadata": {},
   "outputs": [
    {
     "data": {
      "text/plain": [
       "151"
      ]
     },
     "execution_count": 64,
     "metadata": {},
     "output_type": "execute_result"
    }
   ],
   "source": [
    "time_list.__len__()"
   ]
  },
  {
   "cell_type": "code",
   "execution_count": 65,
   "metadata": {},
   "outputs": [],
   "source": [
    "news_time = int(time_list[0])"
   ]
  },
  {
   "cell_type": "code",
   "execution_count": 67,
   "metadata": {},
   "outputs": [
    {
     "data": {
      "text/plain": [
       "'1677930775'"
      ]
     },
     "execution_count": 67,
     "metadata": {},
     "output_type": "execute_result"
    }
   ],
   "source": [
    "time_list[0]"
   ]
  },
  {
   "cell_type": "code",
   "execution_count": null,
   "metadata": {},
   "outputs": [],
   "source": []
  },
  {
   "cell_type": "code",
   "execution_count": 69,
   "metadata": {},
   "outputs": [
    {
     "data": {
      "text/plain": [
       "'https://www.newsnow.co.uk/h/Technology/Cyber+Security?type=ln&d=1677931389'"
      ]
     },
     "execution_count": 69,
     "metadata": {},
     "output_type": "execute_result"
    }
   ],
   "source": [
    "target_url"
   ]
  },
  {
   "cell_type": "code",
   "execution_count": 72,
   "metadata": {},
   "outputs": [
    {
     "name": "stdout",
     "output_type": "stream",
     "text": [
      "2023-03-03 20:03:09\n"
     ]
    }
   ],
   "source": [
    "print(str(datetime.datetime.fromtimestamp(unix_now_time - 86400)))"
   ]
  },
  {
   "cell_type": "code",
   "execution_count": null,
   "metadata": {},
   "outputs": [],
   "source": [
    "if __name__ == '__main__':\n",
    "    # 取得參數，實際執行指令：python ./news_now_crawler_2.py -d [爬幾天]\n",
    "    import argparse\n",
    "    parser = argparse.ArgumentParser()\n",
    "    parser.add_argument(\"-d\", \"--days\", required = True,\n",
    "                    help = \"How many days do you want to search?\",\n",
    "                    type = int)\n",
    "    args = parser.parse_args()\n",
    "    days = args.days\n",
    "    amount = math.inf\n",
    "\n",
    "    print(f\"爬蟲爬取天數：至今前{ days:^3}天，每天爬取 {amount} 篇新聞(若數量為inf，則代表每天爬取無限量) \")\n",
    "    \n"
   ]
  },
  {
   "cell_type": "code",
   "execution_count": null,
   "metadata": {},
   "outputs": [],
   "source": [
    "# 目前時間\n",
    "execute_time = datetime.now()\n",
    "trans_time = int(round(execute_time.timestamp()))\n",
    "print(execute_time)\n",
    "print(trans_time)\n",
    "\n",
    "# 目標連線網址：type=ln 表示爬取 latest 的新聞\n",
    "ROOT_URL = 'https://www.newsnow.co.uk/h/Technology/Cyber+Security?type=ln'\n",
    "target = ROOT_URL + '&d=' + str(trans_time)\n",
    "\n",
    "page_number = 2\n",
    "count = 0\n",
    "news_link = []\n",
    "\n",
    "# 資料庫連線\n",
    "conn = pymysql.connect(host='localhost', user='root', passwd = '', db='ids_cti')\n",
    "sql = conn.cursor()\n",
    "\n",
    "\n",
    "# 請求網頁\n",
    "HTML_PARSER = \"html.parser\"\n",
    "session_requests = requests.session()\n",
    "\n",
    "\n",
    "def get_news_times():\n",
    "    global time_list\n",
    "    global news_time\n",
    "    global timestamp\n",
    "    import time as tik\n",
    "    headers = {\n",
    "    'User-Agent': 'Mozilla/5.0 (Windows NT 10.0; Win64; x64) AppleWebKit/537.36 (KHTML, like Gecko) Chrome/110.0.0.0 Safari/537.36 Edg/110.0.1587.57',\n",
    "    'cookie' : 'nn_uid=ID=20230113124108:20031; uky=c_101-52-51-53-55-52-53-55; __gads=ID=a8f508913da9aae2:T=1673613768:S=ALNI_MaXhnKshaWNI3_B4S2tsL7ZrjUHyQ; _gid=GA1.3.1866699498.1674844904; cookie_policy=2; nnusrst=c_Pubs._QhZ-ArtList.1164452301;1164383991-CookieConsent.2; nn_sid=05f39165b0957402573c; __gpi=UID=00000ba35459f50e:T=1673613768:RT=1675190027:S=ALNI_MYgrQ3BB6jRaIPrz_4wPOGfjbi8mQ; nn_ssn=c_Qh; _ga=GA1.3.1553473696.1673583694; _ga_ZS7YYS67BF=GS1.1.1675180683.14.1.1675193984.0.0.0; NNNewsfeedHistory=c__C.326-A.Cyber+Security-K.Qu-S.1675194287-N.15653-Y.UKZ-_C.1-A.Technology-K.Qu-S.1675168527-N.15630-Y.UK; NN_Eng=0'\n",
    "    }\n",
    "    \n",
    "    list_req = requests.get(target, headers=headers)\n",
    "    if list_req.status_code == requests.codes.ok:\n",
    "        soup = BeautifulSoup(list_req.content, HTML_PARSER)\n",
    "    \n",
    "    time_list =[]\n",
    "    times = soup.find_all('span', 'time',limit=amount)\n",
    "    for time in times:\n",
    "        time_list.append(time['data-time'])\n",
    "    \n",
    "    for i in range(count,len(time_list)):\n",
    "        delay_choices_1 = [5, 10, 20, 12, 11]\n",
    "        delay_1 = random.choice(delay_choices_1)\n",
    "        tik.sleep(delay_1)    \n",
    "        news_time = int(time_list[i])\n",
    "        if news_time <= trans_time and news_time > (trans_time - 86400):\n",
    "            timestamp = str(datetime.fromtimestamp(news_time))\n",
    "            print(\"Local-Date-time : \" + str(timestamp) )\n",
    "            print(\"UNIX-Timestamp : \" + str(news_time))\n",
    "            url_list = []\n",
    "   \n",
    "            get_news_link(i)\n",
    "\n",
    "def get_news_link(j):\n",
    "    global url\n",
    "    global title\n",
    "    headers = {\n",
    "    'User-Agent': 'Mozilla/5.0 (Windows NT 10.0; Win64; x64) AppleWebKit/537.36 (KHTML, like Gecko) Chrome/109.0.0.0 Safari/537.36',\n",
    "    'cookie' : 'nn_uid=ID=20230113124108:20031; uky=c_101-52-51-53-55-52-53-55; __gads=ID=a8f508913da9aae2:T=1673613768:S=ALNI_MaXhnKshaWNI3_B4S2tsL7ZrjUHyQ; _gid=GA1.3.1866699498.1674844904; cookie_policy=2; nnusrst=c_Pubs._QhZ-ArtList.1164452301;1164383991-CookieConsent.2; nn_sid=05f39165b0957402573c; __gpi=UID=00000ba35459f50e:T=1673613768:RT=1675190027:S=ALNI_MYgrQ3BB6jRaIPrz_4wPOGfjbi8mQ; nn_ssn=c_Qh; _ga=GA1.3.1553473696.1673583694; _ga_ZS7YYS67BF=GS1.1.1675180683.14.1.1675193984.0.0.0; NNNewsfeedHistory=c__C.326-A.Cyber+Security-K.Qu-S.1675194287-N.15653-Y.UKZ-_C.1-A.Technology-K.Qu-S.1675168527-N.15630-Y.UK; NN_Eng=0'\n",
    "    }\n",
    "    list_req = requests.get(target, headers=headers)\n",
    "    if list_req.status_code == requests.codes.ok:\n",
    "        soup = BeautifulSoup(list_req.content, HTML_PARSER)\n",
    "\n",
    "    divs = soup.find_all(href =re.compile(\"^https://c.newsnow.co.uk/A/\"),limit=amount)\n",
    "    url = divs[j].get('href')\n",
    "    title = divs[j].text.replace('\\n', '')\n",
    "    title = re.sub(r'[^\\x00-\\x7f]', r' ', title)\n",
    "    print(\"Title : \" + title)\n",
    "    print(\"URL : \" + url)\n",
    "\n",
    "    get_news_contents()\n",
    "    print('-------------------------------------------------------')\n",
    "\n",
    "def get_news_contents():\n",
    "    headers = {\n",
    "    'User-Agent': 'Mozilla/5.0 (Windows NT 10.0; Win64; x64) AppleWebKit/537.36 (KHTML, like Gecko) Chrome/109.0.0.0 Safari/537.36',\n",
    "    'cookie' : 'nn_uid=ID=20230113124108:20031; uky=c_101-52-51-53-55-52-53-55; __gads=ID=a8f508913da9aae2:T=1673613768:S=ALNI_MaXhnKshaWNI3_B4S2tsL7ZrjUHyQ; _gid=GA1.3.1866699498.1674844904; cookie_policy=2; nnusrst=c_Pubs._QhZ-ArtList.1164452301;1164383991-CookieConsent.2; nn_sid=05f39165b0957402573c; __gpi=UID=00000ba35459f50e:T=1673613768:RT=1675190027:S=ALNI_MYgrQ3BB6jRaIPrz_4wPOGfjbi8mQ; nn_ssn=c_Qh; _ga=GA1.3.1553473696.1673583694; _ga_ZS7YYS67BF=GS1.1.1675180683.14.1.1675193984.0.0.0; NNNewsfeedHistory=c__C.326-A.Cyber+Security-K.Qu-S.1675194287-N.15653-Y.UKZ-_C.1-A.Technology-K.Qu-S.1675168527-N.15630-Y.UK; NN_Eng=0'\n",
    "    }\n",
    "\n",
    "    content =''\n",
    "    session_requests = requests.session()\n",
    "    #使用GET方法取得網頁資訊\n",
    "    response = session_requests.get(url,headers=headers)\n",
    "    print(\"Response status is : \" + str(response.status_code))\n",
    "\n",
    "    if response.status_code == requests.codes.ok:\n",
    "        soup = BeautifulSoup(response.content,\"html.parser\")\n",
    "    # 取得response中所有的超連結，存在 a_tags。並 pop 出第一個網址\n",
    "    a_tags = soup.find_all('a')\n",
    "    a_tags.reverse()\n",
    "    web = a_tags.pop().get('href')\n",
    "    print(\"trans_url is : \" + web)\n",
    "\n",
    "    news_url = requests.get(web, headers=headers)\n",
    "    if news_url.status_code == requests.codes.ok:\n",
    "        soup = BeautifulSoup(news_url.content,\"html.parser\")\n",
    "\n",
    "    source = soup.find_all('p')\n",
    "    for x in source:\n",
    "         content += x.text + '\\n'\n",
    "    content = re.sub(r'[^\\x00-\\x7f]', r' ', content)\n",
    "    content = (content[:18000]) if len(content) > 18000 else content\n",
    "    print(content)\n",
    "    Top = 0\n",
    "    Popular = 0\n",
    "\n",
    "    insert = \\\n",
    "            \"INSERT INTO news_now (title,url,trans_url,response_status,post_date,timestamp,content,TOP,POPULAR) VALUES (%s, %s, %s, %s, %s, %s, %s,%s,%s)\"\n",
    "    data = (title, url,web,response.status_code,timestamp , news_time, content,Top,Popular)\n",
    "    sql.execute(insert, data)\n",
    "    conn.commit()\n",
    "    content = ''\n",
    "\n",
    "if __name__ == '__main__':\n",
    "    # 取得參數，實際執行指令：python ./news_now_crawler_2.py -d [爬幾天]\n",
    "    import argparse\n",
    "    parser = argparse.ArgumentParser()\n",
    "    parser.add_argument(\"-d\", \"--days\", required = True,\n",
    "                    help = \"How many days do you want to search?\",\n",
    "                    type = int)\n",
    "    args = parser.parse_args()\n",
    "    print(f\"How many days do you want to search?：至今前{args.days:^5}天，type={type(args.days)}\")\n",
    "    days = args.days\n",
    "    amount = math.inf\n",
    "\n",
    "    for x in range(days):\n",
    "        print(\"目前時間：\" + str(datetime.datetime.now().strftime(\"%Y-%m-%d-%HH-%MM-%SS\")) + \" / UNIX時間：\" + str(unix_now_time))\n",
    "        print('-------------------------------------------------------')\n",
    "        get_news_times()\n",
    "    \n",
    "    sql.close()\n",
    "    conn.close()\n"
   ]
  },
  {
   "cell_type": "code",
   "execution_count": 35,
   "metadata": {},
   "outputs": [
    {
     "name": "stdout",
     "output_type": "stream",
     "text": [
      "目前時間：2023-03-05-19H-35M-52S / UNIX時間：1678015168\n"
     ]
    }
   ],
   "source": [
    "print(\"目前時間：\" + str(datetime.datetime.now().strftime(\"%Y-%m-%d-%HH-%MM-%SS\")) + \" / UNIX時間：\" + str(unix_now_time))\n"
   ]
  },
  {
   "cell_type": "code",
   "execution_count": null,
   "metadata": {},
   "outputs": [],
   "source": []
  }
 ],
 "metadata": {
  "kernelspec": {
   "display_name": "py37-idscti-web",
   "language": "python",
   "name": "python3"
  },
  "language_info": {
   "codemirror_mode": {
    "name": "ipython",
    "version": 3
   },
   "file_extension": ".py",
   "mimetype": "text/x-python",
   "name": "python",
   "nbconvert_exporter": "python",
   "pygments_lexer": "ipython3",
   "version": "3.7.16"
  },
  "orig_nbformat": 4
 },
 "nbformat": 4,
 "nbformat_minor": 2
}
