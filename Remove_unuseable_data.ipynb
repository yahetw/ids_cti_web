{
 "cells": [
  {
   "cell_type": "code",
   "execution_count": null,
   "metadata": {},
   "outputs": [],
   "source": [
    "DELETE FROM newsnow_security where trans_url LIKE \"%thecyberwire.com%\";\n",
    "DELETE FROM newsnow_security where trans_url LIKE \"%bloomberg.com%\";\n",
    "DELETE FROM newsnow_security where trans_url LIKE \"%thecyberwire.com%\n",
    "DELETE FROM newsnow_security where trans_url LIKE \"%databreach%"
   ]
  },
  {
   "cell_type": "code",
   "execution_count": null,
   "metadata": {},
   "outputs": [],
   "source": [
    "# 刪除不能用的資料"
   ]
  },
  {
   "cell_type": "code",
   "execution_count": 13,
   "metadata": {},
   "outputs": [
    {
     "data": {
      "text/plain": [
       "['./newsnow_config.ini']"
      ]
     },
     "execution_count": 13,
     "metadata": {},
     "output_type": "execute_result"
    }
   ],
   "source": [
    "import t2id_mod_2304ver as t2id\n",
    "import configparser\n",
    "import pymysql\n",
    "import pandas as pd\n",
    "config = configparser.ConfigParser()\n",
    "\n",
    "config.read(\"./newsnow_config.ini\")\n"
   ]
  },
  {
   "cell_type": "code",
   "execution_count": 14,
   "metadata": {},
   "outputs": [],
   "source": [
    "ip = config['Connect']['server']\n",
    "port = config['Connect'].getint('port')\n",
    "db = config['Connect']['db']\n",
    "user = config['User']['username']\n",
    "password  = config['User']['password']\n",
    "\n",
    "# 資料庫參數設定\n",
    "db_settings = {\n",
    "    \"host\": ip,\n",
    "    \"port\": port,\n",
    "    \"user\": user,\n",
    "    \"password\": password,\n",
    "    \"db\": db,\n",
    "    \"charset\": \"utf8\"\n",
    "}"
   ]
  },
  {
   "cell_type": "code",
   "execution_count": 27,
   "metadata": {},
   "outputs": [
    {
     "name": "stdout",
     "output_type": "stream",
     "text": [
      "總計刪除 0 筆\n"
     ]
    }
   ],
   "source": [
    "try:\n",
    "    # 建立Connection物件\n",
    "    conn = pymysql.connect(**db_settings)\n",
    "    deleted_count = 0\n",
    "    # 建立Cursor物件\n",
    "    cursor = conn.cursor()\n",
    "    # 執行刪除操作\n",
    "    cursor.execute(\"\"\"\n",
    "                   DELETE FROM newsnow_security where trans_url LIKE \"%databreach%\";\n",
    "                   \"\"\")\n",
    "    deleted_count += cursor.rowcount\n",
    "\n",
    "    cursor.execute(\"\"\"\n",
    "                   DELETE FROM newsnow_security where trans_url LIKE \"%thecyberwire.com%\";\n",
    "                   \"\"\")\n",
    "    deleted_count += cursor.rowcount\n",
    "\n",
    "\n",
    "    cursor.execute(\"\"\"\n",
    "                   DELETE FROM newsnow_security where trans_url LIKE \"%bloomberg.com%\";\n",
    "                   \"\"\")\n",
    "    deleted_count += cursor.rowcount\n",
    "\n",
    "    cursor.execute(\"\"\"\n",
    "                   DELETE FROM newsnow_security where trans_url LIKE \"%computerweekly%\";\n",
    "                   \"\"\")\n",
    "    deleted_count += cursor.rowcount\n",
    "\n",
    "    # 提交 commit\n",
    "    conn.commit()\n",
    "    # 關閉連接\n",
    "    conn.close()\n",
    "    # 顯示刪除資訊\n",
    "    print(f\"總計刪除 {deleted_count} 筆\")\n",
    "\n",
    "except Exception as ex:\n",
    "    print(ex)"
   ]
  },
  {
   "cell_type": "code",
   "execution_count": null,
   "metadata": {},
   "outputs": [],
   "source": [
    "# ## 刪除重複值\n",
    "# CREATE TEMPORARY TABLE temp_table AS\n",
    "# SELECT MIN(id) AS keep_id\n",
    "# FROM your_table\n",
    "# GROUP BY column1, column2, ...; 根据需要指定要检查的列\n",
    "\n",
    "# DELETE FROM your_table\n",
    "# WHERE id NOT IN (SELECT keep_id FROM temp_table)\n",
    "\n",
    "# DROP TEMPORARY TABLE temp_table\n"
   ]
  },
  {
   "cell_type": "code",
   "execution_count": null,
   "metadata": {},
   "outputs": [],
   "source": [
    "# # 查詢重複值\n",
    "# SELECT title, COUNT(*) FROM newsnow_security GROUP BY title HAVING COUNT(*) > 1;\n"
   ]
  }
 ],
 "metadata": {
  "kernelspec": {
   "display_name": "py37-idscti-web-modBertopic",
   "language": "python",
   "name": "python3"
  },
  "language_info": {
   "codemirror_mode": {
    "name": "ipython",
    "version": 3
   },
   "file_extension": ".py",
   "mimetype": "text/x-python",
   "name": "python",
   "nbconvert_exporter": "python",
   "pygments_lexer": "ipython3",
   "version": "3.7.15"
  },
  "orig_nbformat": 4
 },
 "nbformat": 4,
 "nbformat_minor": 2
}
