{
 "cells": [
  {
   "cell_type": "code",
   "execution_count": 2,
   "metadata": {},
   "outputs": [],
   "source": [
    "# 使用指南"
   ]
  },
  {
   "cell_type": "code",
   "execution_count": 3,
   "metadata": {},
   "outputs": [
    {
     "ename": "SyntaxError",
     "evalue": "invalid syntax (3694424098.py, line 1)",
     "output_type": "error",
     "traceback": [
      "\u001b[1;36m  File \u001b[1;32m\"C:\\Users\\yahet\\AppData\\Local\\Temp\\ipykernel_23280\\3694424098.py\"\u001b[1;36m, line \u001b[1;32m1\u001b[0m\n\u001b[1;33m    https://oxygentw.net/blog/computer/python-file-utf8-encoding/\u001b[0m\n\u001b[1;37m           ^\u001b[0m\n\u001b[1;31mSyntaxError\u001b[0m\u001b[1;31m:\u001b[0m invalid syntax\n"
     ]
    }
   ],
   "source": [
    "https://oxygentw.net/blog/computer/python-file-utf8-encoding/"
   ]
  },
  {
   "attachments": {},
   "cell_type": "markdown",
   "metadata": {},
   "source": [
    "修改安裝包的 cp950 問題: https://oxygentw.net/blog/computer/python-file-utf8-encoding/"
   ]
  },
  {
   "attachments": {},
   "cell_type": "markdown",
   "metadata": {},
   "source": [
    "https://www.activestate.com/resources/quick-reads/how-to-manually-install-python-packages/"
   ]
  },
  {
   "attachments": {},
   "cell_type": "markdown",
   "metadata": {},
   "source": [
    "手動安裝(需到達有 \"setup.py\" 路徑): python setup.py install"
   ]
  },
  {
   "cell_type": "code",
   "execution_count": null,
   "metadata": {},
   "outputs": [],
   "source": []
  },
  {
   "cell_type": "code",
   "execution_count": 1,
   "metadata": {},
   "outputs": [
    {
     "name": "stdout",
     "output_type": "stream",
     "text": [
      "observed probabilities: \n",
      "[0.         0.18181818 0.08333333 0.6        0.7        0.25\n",
      " 0.66666667 0.7        0.15384615 0.09090909]\n",
      "optimal state sequence: \n",
      "[[0. 0. 0. 0. 1. 0. 1. 1. 0. 0.]]\n",
      "baseline probability: 0.33962264150943394\n",
      "bursty probability: 0.6792452830188679\n",
      "weighted bursts:\n",
      "        label  begin  end    weight\n",
      "1  burstLabel      6    7  5.342265\n",
      "0  burstLabel      4    4  2.685626\n"
     ]
    }
   ],
   "source": [
    "import burst_detection as bd\n",
    "import numpy as np\n",
    "\n",
    "#number of target events at each time point\n",
    "r = np.array([0, 2, 1, 6, 7, 2, 8, 7, 2, 1], dtype=float)\n",
    "#total number of events at each time point\n",
    "d = np.array([9, 11, 12, 10, 10, 8, 12, 10, 13, 11], dtype=float)\n",
    "#number of time points\n",
    "n = len(r)\n",
    "\n",
    "#find the optimal state sequence (q)\n",
    "q, d, r, p = bd.burst_detection(r,d,n,s=2,gamma=1,smooth_win=1)\n",
    "\n",
    "#enumerate bursts based on the optimal state sequence\n",
    "bursts = bd.enumerate_bursts(q, 'burstLabel')\n",
    "\n",
    "#find weight of bursts\n",
    "weighted_bursts = bd.burst_weights(bursts,r,d,p)\n",
    "\n",
    "print ('observed probabilities: ')\n",
    "print( str(r/d))\n",
    "\n",
    "print ('optimal state sequence: ')\n",
    "print( str(q.T))\n",
    "\n",
    "print ('baseline probability: ' + str(p[0]))\n",
    "\n",
    "print ('bursty probability: ' + str(p[1]))\n",
    "\n",
    "print ('weighted bursts:')\n",
    "print (weighted_bursts)"
   ]
  },
  {
   "cell_type": "code",
   "execution_count": null,
   "metadata": {},
   "outputs": [],
   "source": []
  }
 ],
 "metadata": {
  "kernelspec": {
   "display_name": "py37-kleinberg",
   "language": "python",
   "name": "python3"
  },
  "language_info": {
   "codemirror_mode": {
    "name": "ipython",
    "version": 3
   },
   "file_extension": ".py",
   "mimetype": "text/x-python",
   "name": "python",
   "nbconvert_exporter": "python",
   "pygments_lexer": "ipython3",
   "version": "3.7.16"
  },
  "orig_nbformat": 4,
  "vscode": {
   "interpreter": {
    "hash": "421492dfe6ab2a5fed93a83b7455a18919502b9c06098b2c0093c3b08e7813d6"
   }
  }
 },
 "nbformat": 4,
 "nbformat_minor": 2
}
